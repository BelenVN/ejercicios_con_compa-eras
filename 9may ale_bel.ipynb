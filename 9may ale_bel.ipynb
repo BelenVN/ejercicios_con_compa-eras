{
 "cells": [
  {
   "cell_type": "code",
   "execution_count": 11,
   "metadata": {},
   "outputs": [
    {
     "name": "stdout",
     "output_type": "stream",
     "text": [
      "El número es 0\n"
     ]
    }
   ],
   "source": [
    "# Verificar si un número es positivo, negativo o cero\n",
    "# Descripción: Dado un número, verifica si es positivo, negativo o cero.\n",
    "\n",
    "numero2 = int(input(\"Escriba un número\"))\n",
    "\n",
    "if numero2 > 0:\n",
    "    print(\"EL número es positivo\")\n",
    "else:\n",
    " if numero2 == 0 : \n",
    "    print('El número es 0')\n",
    " else :\n",
    "        print('El número es negativo')\n",
    "    "
   ]
  },
  {
   "cell_type": "code",
   "execution_count": 6,
   "metadata": {},
   "outputs": [
    {
     "name": "stdout",
     "output_type": "stream",
     "text": [
      "EL número es impar\n"
     ]
    }
   ],
   "source": [
    "# Verificar si un número es par o impar\n",
    "#Descripción: Dado un número, verifica si es par o impar.\n",
    "\n",
    "numero = int(input(\"Escriba un número\"))\n",
    "\n",
    "if numero % 2 == 0:\n",
    "    print(\"El número es par\")\n",
    "else:\n",
    "    print(\"EL número es impar\")\n"
   ]
  },
  {
   "cell_type": "code",
   "execution_count": 8,
   "metadata": {},
   "outputs": [
    {
     "name": "stdout",
     "output_type": "stream",
     "text": [
      "Has aprobado\n"
     ]
    }
   ],
   "source": [
    "#Verificar si un estudiante aprobó o suspendió un examen\n",
    "#Descripción: Dada la calificación de un estudiante en un examen, verifica si aprobó o suspendió (si la calificación es mayor o igual a 60 se considera aprobado).\n",
    "\n",
    "nota_examen = int(input(\"¿Qué nota has sacado en el exámen?\"))\n",
    "\n",
    "if nota_examen >= 60:\n",
    "    print(\"Has aprobado\")\n",
    "else:\n",
    "    print(\"Has suspendido\")"
   ]
  },
  {
   "cell_type": "code",
   "execution_count": 14,
   "metadata": {},
   "outputs": [
    {
     "name": "stdout",
     "output_type": "stream",
     "text": [
      "Los números son iguales\n"
     ]
    }
   ],
   "source": [
    "#Calcular el máximo entre dos números\n",
    "#Descripción: Dados dos números, encuentra el máximo entre ellos.\n",
    "\n",
    "numeroA = int(input(\"Esrcibe un número\"))\n",
    "numeroB = int(input(\"Escribe otro número\"))\n",
    "\n",
    "if numeroA > numeroB:\n",
    "    print(\"El primer número es mayor que el segundo\")\n",
    "else:\n",
    "    if numeroA == numeroB:\n",
    "        print(\"Los números son iguales\")\n",
    "    else:\n",
    "        print(\"El segundo número es mayor que el primero\")\n"
   ]
  },
  {
   "cell_type": "code",
   "execution_count": 16,
   "metadata": {},
   "outputs": [
    {
     "name": "stdout",
     "output_type": "stream",
     "text": [
      "<class 'list'>\n",
      "Has introducido una consonante\n"
     ]
    }
   ],
   "source": [
    "# Verificar si una letra es una vocal o una consonante\n",
    "# Descripción: Dada una letra, verifica si es una vocal o una consonante.\n",
    "\n",
    "vocales = [ 'a', 'e', 'i', 'o', 'u']\n",
    "print(type(vocales))\n",
    "\n",
    "abc = input('Introduce una letra')\n",
    "\n",
    "if abc in vocales :\n",
    "    print ('Has introducido una vocal')\n",
    "\n",
    "else :\n",
    "    print ('Has introducido una consonante')"
   ]
  },
  {
   "cell_type": "code",
   "execution_count": 20,
   "metadata": {},
   "outputs": [
    {
     "name": "stdout",
     "output_type": "stream",
     "text": [
      "El precio final de tu compra es 30\n"
     ]
    }
   ],
   "source": [
    "#Calcular el descuento en una compra según el monto total\n",
    "#Descripción: Dado el monto total de una compra, calcula el descuento aplicado según las siguientes condiciones: si el monto es mayor o igual a $100, aplica un descuento del 10%; de lo contrario, no aplica ningún descuento.\n",
    "\n",
    "monto_compra = int(input(\"¿Cuánto te ha costado todo?\"))\n",
    "\n",
    "if monto_compra >= 100:\n",
    "    print(\"El precio final de tu compra es:\", monto_compra*0.9)\n",
    "else:\n",
    "    print(\"El precio final de tu compra es\", monto_compra)"
   ]
  },
  {
   "cell_type": "code",
   "execution_count": 5,
   "metadata": {},
   "outputs": [
    {
     "name": "stdout",
     "output_type": "stream",
     "text": [
      "El año es bisiesto\n",
      "El año es bisiesto\n"
     ]
    }
   ],
   "source": [
    "#Verificar si un año es bisiesto o no\n",
    "#Descripción: Dado un año, verifica si es bisiesto o no (un año es bisiesto si es divisible entre 4, excepto aquellos divisibles entre 100 pero no entre 400).\n",
    "\n",
    "\n",
    "#NO HEMOS CONSEGUIDO RESOLVERLO\n",
    "\n",
    "año = int(input(\"Introduce un año\"))\n",
    "\n",
    "\n",
    "\n",
    "\n"
   ]
  }
 ],
 "metadata": {
  "kernelspec": {
   "display_name": "Python 3",
   "language": "python",
   "name": "python3"
  },
  "language_info": {
   "codemirror_mode": {
    "name": "ipython",
    "version": 3
   },
   "file_extension": ".py",
   "mimetype": "text/x-python",
   "name": "python",
   "nbconvert_exporter": "python",
   "pygments_lexer": "ipython3",
   "version": "3.11.9"
  }
 },
 "nbformat": 4,
 "nbformat_minor": 2
}
