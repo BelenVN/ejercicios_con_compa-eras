{
 "cells": [
  {
   "cell_type": "code",
   "execution_count": 6,
   "metadata": {},
   "outputs": [
    {
     "name": "stdout",
     "output_type": "stream",
     "text": [
      "12.56636\n"
     ]
    }
   ],
   "source": [
    "# 1. Calcular el área de un círculo. Descripción: Crea una función llamada calcular_area_circulo \n",
    "#que tome el radio como parámetro y devuelva el área del círculo.\n",
    "def calcular_area_circulo(radio):\n",
    "   print(3.14159*radio**2)\n",
    "\n",
    "calcular_area_circulo(2)"
   ]
  },
  {
   "cell_type": "code",
   "execution_count": 4,
   "metadata": {},
   "outputs": [
    {
     "name": "stdout",
     "output_type": "stream",
     "text": [
      "9\n"
     ]
    }
   ],
   "source": [
    "#2. Contar la cantidad de caracteres en una cadena. Descripción: Crea una función llamada \n",
    "#contar_caracteres que tome una cadena como parámetro y devuelva la cantidad de caracteres \n",
    "#que contiene.\n",
    "def contar_caracteres(cadena):\n",
    "    print(len(cadena))\n",
    "\n",
    "contar_caracteres('Alejandra')"
   ]
  },
  {
   "cell_type": "code",
   "execution_count": 8,
   "metadata": {},
   "outputs": [
    {
     "name": "stdout",
     "output_type": "stream",
     "text": [
      "El promedio de la lista es: 3.0\n"
     ]
    }
   ],
   "source": [
    "#4. Calcular el promedio de una lista de números.\n",
    "#Descripción: Crea una función llamada calcular_promedio que tome una lista de números como parámetro y devuelva el promedio de todos sus elementos.\n",
    "\n",
    "def calcular_promedio(lista):\n",
    "    return sum(lista) / len(lista)\n",
    "\n",
    "mi_lista = [1, 2, 3, 4, 5]\n",
    "promedio = calcular_promedio(mi_lista)\n",
    "print(\"El promedio de la lista es:\", promedio)"
   ]
  },
  {
   "cell_type": "code",
   "execution_count": 13,
   "metadata": {},
   "outputs": [
    {
     "name": "stdout",
     "output_type": "stream",
     "text": [
      "amor y roma son anagramas.\n"
     ]
    }
   ],
   "source": [
    "# 6. Validar si una palabra es un anagrama de otra.\n",
    "# Descripción: Crea una función llamada es_anagrama que tome dos palabras como parámetros y devuelva True si una es un anagrama de la otra, o False si no lo es.\n",
    "\n",
    "def es_anagrama(palabra1, palabra2):\n",
    "    # Eliminar espacios y convertir todo a minúsculas para comparación sin distinción de mayúsculas\n",
    "    palabra1 = palabra1.replace(\" \", \"\").lower()\n",
    "    palabra2 = palabra2.replace(\" \", \"\").lower()\n",
    "\n",
    "    # Si las longitudes de las palabras son diferentes, no pueden ser anagramas\n",
    "    if len(palabra1) != len(palabra2):\n",
    "        return False\n",
    "\n",
    "    # Convertir las palabras en listas de caracteres y ordenarlas\n",
    "    lista1 = sorted(list(palabra1))\n",
    "    lista2 = sorted(list(palabra2))\n",
    "\n",
    "    # Si las listas ordenadas son iguales, las palabras son anagramas\n",
    "    return lista1 == lista2\n",
    "\n",
    "# Ejemplo de uso\n",
    "palabra_1 = \"amor\"\n",
    "palabra_2 = \"roma\"\n",
    "if es_anagrama(palabra_1, palabra_2):\n",
    "    print(f\"{palabra_1} y {palabra_2} son anagramas.\")\n",
    "else:\n",
    "    print(f\"{palabra_1} y {palabra_2} no son anagramas.\")"
   ]
  },
  {
   "cell_type": "code",
   "execution_count": 7,
   "metadata": {},
   "outputs": [
    {
     "name": "stdout",
     "output_type": "stream",
     "text": [
      "Valores que se repiten en la lista [5]\n"
     ]
    }
   ],
   "source": [
    "#11. Encontrar el elemento duplicado en una lista de números.\n",
    "#Descripción: Crea una función llamada encontrar_duplicado que tome una lista de números enteros y devuelva el elemento que está duplicado en la lista.\n",
    "\n",
    "def encontrar_duplicado(lista):\n",
    "    repetidos = []\n",
    "    for num in lista:\n",
    "        if lista.count(num) > 1 and num not in repetidos:\n",
    "            repetidos.append(num)\n",
    "    return repetidos\n",
    "\n",
    "\n",
    "lista_num = [1,2,3,4,5,6,7,8,9,5,10,11,12,13,14,15]\n",
    "nums_repetidos = encontrar_duplicado(lista_num)\n",
    "print(\"Valores que se repiten en la lista\",nums_repetidos)\n"
   ]
  },
  {
   "cell_type": "code",
   "execution_count": null,
   "metadata": {},
   "outputs": [],
   "source": []
  }
 ],
 "metadata": {
  "kernelspec": {
   "display_name": "Python 3",
   "language": "python",
   "name": "python3"
  },
  "language_info": {
   "codemirror_mode": {
    "name": "ipython",
    "version": 3
   },
   "file_extension": ".py",
   "mimetype": "text/x-python",
   "name": "python",
   "nbconvert_exporter": "python",
   "pygments_lexer": "ipython3",
   "version": "3.11.9"
  }
 },
 "nbformat": 4,
 "nbformat_minor": 2
}
