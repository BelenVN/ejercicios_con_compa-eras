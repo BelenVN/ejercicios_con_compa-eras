{
 "cells": [
  {
   "cell_type": "code",
   "execution_count": 3,
   "metadata": {},
   "outputs": [
    {
     "name": "stdout",
     "output_type": "stream",
     "text": [
      "<class 'dict'>\n"
     ]
    }
   ],
   "source": [
    "# Crear un diccionario\n",
    "\n",
    "diccionario1 = {}\n",
    "print(type(diccionario1))"
   ]
  },
  {
   "cell_type": "code",
   "execution_count": 5,
   "metadata": {},
   "outputs": [
    {
     "name": "stdout",
     "output_type": "stream",
     "text": [
      "{'María': 34, 'Ana': 40, 'Alicia': 33, 'Juana': 28, 'Belén': 35}\n"
     ]
    }
   ],
   "source": [
    "# Crear diccionario con parejas\n",
    "\n",
    "diccionario2 = {\"María\":34, \"Ana\": 40, \"Alicia\": 33, \"Juana\": 28, \"Belén\": 35}\n",
    "\n",
    "print(diccionario2)"
   ]
  },
  {
   "cell_type": "code",
   "execution_count": 14,
   "metadata": {},
   "outputs": [
    {
     "name": "stdout",
     "output_type": "stream",
     "text": [
      "La edad de la usuaria es 33\n"
     ]
    }
   ],
   "source": [
    "# Obtener el valor de una clave\n",
    "\n",
    "print(\"La edad de la usuaria es\", diccionario2.get(input()))\n",
    "\n"
   ]
  },
  {
   "cell_type": "code",
   "execution_count": 18,
   "metadata": {},
   "outputs": [
    {
     "name": "stdout",
     "output_type": "stream",
     "text": [
      "La nueva pareja es None\n",
      "{'María': 34, 'Ana': 40, 'Alicia': 33, 'Juana': 28, 'Belén': 35, 'Leyre': 28}\n"
     ]
    }
   ],
   "source": [
    "# Agregar una nueva pareja\n",
    "\n",
    "nuevo_miembro = {\"Leyre\":28}\n",
    "\n",
    "print(\"La nueva pareja es\", diccionario2.update(nuevo_miembro))\n",
    "\n",
    "print(diccionario2)"
   ]
  },
  {
   "cell_type": "code",
   "execution_count": 19,
   "metadata": {},
   "outputs": [
    {
     "name": "stdout",
     "output_type": "stream",
     "text": [
      "{'María': 30, 'Ana': 40, 'Alicia': 33, 'Juana': 28, 'Belén': 35, 'Leyre': 28}\n"
     ]
    }
   ],
   "source": [
    "# Actualizar el valor\n",
    "\n",
    "diccionario2 [\"María\"] = 30\n",
    "\n",
    "print(diccionario2)\n"
   ]
  },
  {
   "cell_type": "code",
   "execution_count": 21,
   "metadata": {},
   "outputs": [
    {
     "name": "stdout",
     "output_type": "stream",
     "text": [
      "{'María': 30, 'Alicia': 33, 'Juana': 28, 'Belén': 35, 'Leyre': 28}\n"
     ]
    }
   ],
   "source": [
    "# Eliminar una pareja específico usando un input\n",
    "\n",
    "diccionario3 = diccionario2.copy()\n",
    "\n",
    "diccionario3.pop(input(\"A quién quieres eliminar de la lista?\"))\n",
    "\n",
    "print(diccionario3)"
   ]
  },
  {
   "cell_type": "code",
   "execution_count": 26,
   "metadata": {},
   "outputs": [
    {
     "name": "stdout",
     "output_type": "stream",
     "text": [
      "True\n"
     ]
    }
   ],
   "source": [
    "# Verificar si una clave está presente en un diccionario\n",
    "\n",
    "print(input(\"¿Quien quieres saber que esté en el diccionario 2?\") in diccionario2)"
   ]
  },
  {
   "cell_type": "code",
   "execution_count": 30,
   "metadata": {},
   "outputs": [
    {
     "name": "stdout",
     "output_type": "stream",
     "text": [
      "Las claves del diccionario son dict_keys(['María', 'Ana', 'Alicia', 'Juana', 'Belén', 'Leyre'])\n"
     ]
    }
   ],
   "source": [
    "# Obtener una lista de las claves del diccionario\n",
    "\n",
    "print(\"Las claves del diccionario son\", diccionario2.keys())"
   ]
  },
  {
   "cell_type": "code",
   "execution_count": 31,
   "metadata": {},
   "outputs": [
    {
     "name": "stdout",
     "output_type": "stream",
     "text": [
      "Los valores del diccionario son dict_values([30, 40, 33, 28, 35, 28])\n"
     ]
    }
   ],
   "source": [
    "# Obtener una lista de los valores\n",
    "\n",
    "print(\"Los valores del diccionario son\", diccionario2.values())"
   ]
  },
  {
   "cell_type": "code",
   "execution_count": 34,
   "metadata": {},
   "outputs": [
    {
     "name": "stdout",
     "output_type": "stream",
     "text": [
      "{'María': 30, 'Ana': 40, 'Alicia': 33, 'Juana': 28, 'Belén': 35, 'Leyre': 28, 'Violeta': 32}\n"
     ]
    }
   ],
   "source": [
    "# Utilizar set default para establecer un método predeterminado si la clave no existe\n",
    "\n",
    "diccionario2.setdefault(\"Violeta\",32)\n",
    "print(diccionario2)"
   ]
  }
 ],
 "metadata": {
  "kernelspec": {
   "display_name": "Python 3",
   "language": "python",
   "name": "python3"
  },
  "language_info": {
   "codemirror_mode": {
    "name": "ipython",
    "version": 3
   },
   "file_extension": ".py",
   "mimetype": "text/x-python",
   "name": "python",
   "nbconvert_exporter": "python",
   "pygments_lexer": "ipython3",
   "version": "3.12.2"
  }
 },
 "nbformat": 4,
 "nbformat_minor": 2
}
