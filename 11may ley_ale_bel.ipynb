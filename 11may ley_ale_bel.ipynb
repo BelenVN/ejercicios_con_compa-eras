{
 "cells": [
  {
   "cell_type": "code",
   "execution_count": null,
   "metadata": {},
   "outputs": [],
   "source": [
    "#Imprimir los números del 1 al 5 utilizando un bucle for\n",
    "#Descripción: Utiliza un bucle for para imprimir los números del 1 al 5 (incluido) en orden ascendente."
   ]
  },
  {
   "cell_type": "code",
   "execution_count": 2,
   "metadata": {},
   "outputs": [
    {
     "name": "stdout",
     "output_type": "stream",
     "text": [
      "1\n",
      "2\n",
      "3\n",
      "4\n",
      "5\n"
     ]
    }
   ],
   "source": [
    "lista_num = range(1,6)\n",
    "\n",
    "for numero in lista_num:\n",
    "    print(numero)\n"
   ]
  },
  {
   "cell_type": "code",
   "execution_count": 5,
   "metadata": {},
   "outputs": [
    {
     "name": "stdout",
     "output_type": "stream",
     "text": [
      "La suma de los primeros 10 números naturales es: 55\n"
     ]
    }
   ],
   "source": [
    "#Calcular la suma de los primeros 10 números naturales utilizando un bucle for\n",
    "#Descripción: Utiliza un bucle for para calcular la suma de los primeros 10 números naturales (1 + 2 + 3 + ... + 10).\n",
    "\n",
    "suma = 0\n",
    "for i in range(1, 11):\n",
    "    suma += i\n",
    "\n",
    "print(\"La suma de los primeros 10 números naturales es:\", suma)"
   ]
  },
  {
   "cell_type": "code",
   "execution_count": 3,
   "metadata": {},
   "outputs": [
    {
     "name": "stdout",
     "output_type": "stream",
     "text": [
      "El resultado de la multiplicación es 3628800\n"
     ]
    }
   ],
   "source": [
    "#Calcular el producto de los elementos de una lista\n",
    "#Descripción: Dada una lista de números, utiliza un bucle for para calcular el producto de todos los elementos.\n",
    "\n",
    "lista_multiplicacion = [1,2,3,4,5,6,7,8,9,10]\n",
    "multiplicacion = lista_multiplicacion[0]\n",
    "\n",
    "for i in lista_multiplicacion:\n",
    "    multiplicacion *= i\n",
    "\n",
    "print(\"El resultado de la multiplicación es\",multiplicacion)"
   ]
  },
  {
   "cell_type": "code",
   "execution_count": 5,
   "metadata": {},
   "outputs": [
    {
     "name": "stdout",
     "output_type": "stream",
     "text": [
      "s\n",
      "a\n",
      "n\n",
      " \n",
      "i\n",
      "s\n",
      "i\n",
      "d\n",
      "r\n",
      "o\n"
     ]
    }
   ],
   "source": [
    "#Imprimir los caracteres de una cadena de texto\n",
    "#Descripción: Dada una cadena de texto, utiliza un bucle for para imprimir cada carácter en una línea separada.\n",
    "\n",
    "texto = \"san isidro\"\n",
    "for string in texto:\n",
    "    print(string)"
   ]
  },
  {
   "cell_type": "code",
   "execution_count": 17,
   "metadata": {},
   "outputs": [
    {
     "name": "stdout",
     "output_type": "stream",
     "text": [
      "2\n",
      "4\n",
      "6\n",
      "8\n",
      "10\n",
      "12\n",
      "14\n",
      "16\n",
      "18\n",
      "20\n",
      "22\n",
      "24\n",
      "26\n",
      "28\n",
      "30\n",
      "32\n",
      "34\n",
      "36\n",
      "38\n",
      "40\n",
      "42\n",
      "44\n",
      "46\n",
      "48\n",
      "50\n",
      "52\n",
      "54\n",
      "56\n",
      "58\n",
      "60\n",
      "62\n",
      "64\n",
      "66\n",
      "68\n",
      "70\n",
      "72\n",
      "74\n",
      "76\n",
      "78\n",
      "80\n",
      "82\n",
      "84\n",
      "86\n",
      "88\n",
      "90\n",
      "92\n",
      "94\n",
      "96\n",
      "98\n",
      "100\n"
     ]
    }
   ],
   "source": [
    "#Imprimir los números pares del 1 al 100 utilizando un bucle for\n",
    "#Descripción: Utiliza un bucle for para imprimir los números pares del 1 al 100 en orden ascendente.\n",
    "\n",
    "lista_pares = range(2,101,2)\n",
    "\n",
    "\n",
    "for i in lista_pares:\n",
    "    print(i)"
   ]
  },
  {
   "cell_type": "code",
   "execution_count": null,
   "metadata": {},
   "outputs": [],
   "source": [
    "#Imprimir los números primos del 1 al 50 utilizando un bucle for\n",
    "#Descripción: Utiliza un bucle for para imprimir los números primos del 1 al 50 en orden ascendente.\n",
    "#NOTA: Según la Wikipedia, un número primo es un número natural mayor que 1 que no tiene divisores positivos más que 1 y él mismo.\n",
    "\n",
    "lista_primos = range(1,51)\n",
    "\n",
    "for i in lista_primos:\n",
    "    if % i == 0 \n",
    "    print()"
   ]
  }
 ],
 "metadata": {
  "kernelspec": {
   "display_name": "Python 3",
   "language": "python",
   "name": "python3"
  },
  "language_info": {
   "codemirror_mode": {
    "name": "ipython",
    "version": 3
   },
   "file_extension": ".py",
   "mimetype": "text/x-python",
   "name": "python",
   "nbconvert_exporter": "python",
   "pygments_lexer": "ipython3",
   "version": "3.11.9"
  }
 },
 "nbformat": 4,
 "nbformat_minor": 2
}
